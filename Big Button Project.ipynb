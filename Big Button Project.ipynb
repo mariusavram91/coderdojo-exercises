{
 "cells": [
  {
   "cell_type": "raw",
   "metadata": {},
   "source": [
    "HTML and CSS Project 2 - The REALLY BIG Button Project\n",
    "Use Notepad++ to make a website with two web pages.\n",
    "Create a separate CSS stylesheet.  \n",
    "Put all your formatting (colours, fonts, etc.) into this stylesheet.\n",
    "On the first web page put an image of a BIG button in the middle of the screen.  Include a headline that says ‘This Is [Your Names] Really Big Button Project’. Use CSS to create a class that will centre your button on the page.  \n",
    "The background of your web pages can be any colour EXCEPT white.  But both pages must have the same background colour - use CSS. \n",
    "The text on your web pages can be any colour EXCEPT black.   But both pages must have the same text colour - use CSS. \n",
    "Include some comments in your code. \n",
    "Show good indentation in your code. Pretty code please! \n",
    "When your user clicks on the BIG button it will lead to your second web page.\n",
    "The second web page can have any content you like but it MUST include \n",
    "at least one image (also whatever you like!) THAT YOU MUST STORE LOCALLY - NO HOTLINKING! (Because that’s just rude!)\n",
    "Use a CSS ID to center the image and put a border around it. \n",
    "at least one H1 heading\n",
    "at least one H2 heading\n",
    "at least one paragraph.  \n",
    "a video (you can embed a YouTube video here)\n",
    "a link to another website that opens in a separate window.\n",
    "a link back to your BIG button page\n",
    "a numbered list that lists your team’s five favourite foods\n",
    "a bullet-point list that lists the names of the people in your team.   \n",
    "When you’ve got your website finished and working show it to a mentor. \n",
    "Useful Links: www.w3schools.com  www.w3.org/"
   ]
  }
 ],
 "metadata": {
  "kernelspec": {
   "display_name": "Python 3",
   "language": "python",
   "name": "python3"
  },
  "language_info": {
   "codemirror_mode": {
    "name": "ipython",
    "version": 3
   },
   "file_extension": ".py",
   "mimetype": "text/x-python",
   "name": "python",
   "nbconvert_exporter": "python",
   "pygments_lexer": "ipython3",
   "version": "3.4.0"
  }
 },
 "nbformat": 4,
 "nbformat_minor": 0
}
